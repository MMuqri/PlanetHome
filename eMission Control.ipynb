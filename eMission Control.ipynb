{
 "cells": [
  {
   "cell_type": "code",
   "execution_count": null,
   "metadata": {
    "collapsed": true
   },
   "outputs": [],
   "source": [
    "Dates= [2005, 2006, 2007, 2008, 2009, 2010, 2011, 2012, 2013, 2014, 2015]\n",
    "Northeast= [.087, .09, .085, .082, .093, .094, .088, .093, .085, .084, .079]\n",
    "Midwest= [.077, .083, .082, .086, .088, .087, .082, .083, .073, .079, .079]\n",
    "South= [.072, .073, .073, .07, .075, .083, .083, .081, .068, .075, .076]\n",
    "West= [.075, .072, .073, .08, .077, .083, .083, .078, .072, .073, .079]\n",
    "\n",
    "Dates= [2005, 2006, 2007, 2008, 2009, 2010, 2011]\n",
    "NationalCOPD= [.056, .059, .05, .058, .062, .058, .059]"
   ]
  }
 ],
 "metadata": {
  "kernelspec": {
   "display_name": "Python 3.5",
   "language": "python",
   "name": "python3.5"
  },
  "language_info": {
   "codemirror_mode": {
    "name": "ipython",
    "version": 3
   },
   "file_extension": ".py",
   "mimetype": "text/x-python",
   "name": "python",
   "nbconvert_exporter": "python",
   "pygments_lexer": "ipython3",
   "version": "3.5.2"
  }
 },
 "nbformat": 4,
 "nbformat_minor": 0
}
