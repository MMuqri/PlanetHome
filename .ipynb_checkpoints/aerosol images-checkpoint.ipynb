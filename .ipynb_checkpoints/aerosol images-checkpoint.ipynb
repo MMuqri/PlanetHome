{
 "cells": [
  {
   "cell_type": "code",
   "execution_count": 11,
   "metadata": {
    "collapsed": false
   },
   "outputs": [],
   "source": [
    "import urllib.request\n",
    "import random\n",
    "def aerosol_image(date):\n",
    "    name = date\n",
    "    ful_name = \"aerosol \"+ str(name)+\".jpg\"\n",
    "    urllib.request.urlretrieve(\"https://gibs.earthdata.nasa.gov/image-download?TIME=\"+str(date)+\"&extent=-151.5023958280347,2.061881667674527,-55.87739582803471,71.53063166767453&epsg=4326&layers=BlueMarble_ShadedRelief,Coastlines,MODIS_Aqua_Angstrom_Exponent_Land&opacities=1,1,1&worldfile=false&format=image/jpeg&width=1098&height=701\", ful_name)\n",
    "\n",
    "#2013\n",
    "aerosol_image(\"2013166\")\n",
    "#2014\n",
    "aerosol_image(\"2014166\")\n",
    "#2015\n",
    "aerosol_image(\"2015166\")\n",
    "#2016\n",
    "aerosol_image(\"2016166\")\n",
    "#2017\n",
    "aerosol_image(\"2017166\")\n",
    "\n"
   ]
  },
  {
   "cell_type": "code",
   "execution_count": null,
   "metadata": {
    "collapsed": true
   },
   "outputs": [],
   "source": []
  }
 ],
 "metadata": {
  "kernelspec": {
   "display_name": "Python 3.5",
   "language": "python",
   "name": "python3.5"
  },
  "language_info": {
   "codemirror_mode": {
    "name": "ipython",
    "version": 3
   },
   "file_extension": ".py",
   "mimetype": "text/x-python",
   "name": "python",
   "nbconvert_exporter": "python",
   "pygments_lexer": "ipython3",
   "version": "3.5.2"
  }
 },
 "nbformat": 4,
 "nbformat_minor": 0
}
