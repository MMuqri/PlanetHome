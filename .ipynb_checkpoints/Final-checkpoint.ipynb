{
 "cells": [
  {
   "cell_type": "code",
   "execution_count": 5,
   "metadata": {
    "collapsed": false
   },
   "outputs": [
    {
     "ename": "ImportError",
     "evalue": "No module named 'pyhdf'",
     "output_type": "error",
     "traceback": [
      "\u001b[1;31m---------------------------------------------------------------------------\u001b[0m",
      "\u001b[1;31mImportError\u001b[0m                               Traceback (most recent call last)",
      "\u001b[1;32m<ipython-input-5-b5905c1f2612>\u001b[0m in \u001b[0;36m<module>\u001b[1;34m()\u001b[0m\n\u001b[1;32m----> 1\u001b[1;33m \u001b[1;32mfrom\u001b[0m \u001b[0mpyhdf\u001b[0m\u001b[1;33m.\u001b[0m\u001b[0mSD\u001b[0m \u001b[1;32mimport\u001b[0m \u001b[0mSD\u001b[0m\u001b[1;33m,\u001b[0m \u001b[0mSDC\u001b[0m\u001b[1;33m\u001b[0m\u001b[0m\n\u001b[0m\u001b[0;32m      2\u001b[0m \u001b[1;33m\u001b[0m\u001b[0m\n\u001b[0;32m      3\u001b[0m \u001b[0mfile_name\u001b[0m \u001b[1;33m=\u001b[0m \u001b[1;34m'MISR_AM1_CGAS_2014_F15_0031.hdf'\u001b[0m\u001b[1;33m\u001b[0m\u001b[0m\n\u001b[0;32m      4\u001b[0m \u001b[0mfile\u001b[0m \u001b[1;33m=\u001b[0m \u001b[0mSD\u001b[0m\u001b[1;33m(\u001b[0m\u001b[0mfile_name\u001b[0m\u001b[1;33m,\u001b[0m \u001b[0mSDC\u001b[0m\u001b[1;33m.\u001b[0m\u001b[0mREAD\u001b[0m\u001b[1;33m)\u001b[0m\u001b[1;33m\u001b[0m\u001b[0m\n\u001b[0;32m      5\u001b[0m \u001b[1;33m\u001b[0m\u001b[0m\n",
      "\u001b[1;31mImportError\u001b[0m: No module named 'pyhdf'"
     ]
    }
   ],
   "source": [
    "from pyhdf.SD import SD, SDC\n",
    "\n",
    "file_name = 'MISR_AM1_CGAS_2014_F15_0031.hdf'\n",
    "file = SD(file_name, SDC.READ)\n",
    "\n",
    "print(file.info())\n"
   ]
  },
  {
   "cell_type": "code",
   "execution_count": 6,
   "metadata": {
    "collapsed": false
   },
   "outputs": [
    {
     "ename": "ImportError",
     "evalue": "No module named 'pyhdf'",
     "output_type": "error",
     "traceback": [
      "\u001b[1;31m---------------------------------------------------------------------------\u001b[0m",
      "\u001b[1;31mImportError\u001b[0m                               Traceback (most recent call last)",
      "\u001b[1;32m<ipython-input-6-6ebc1b515744>\u001b[0m in \u001b[0;36m<module>\u001b[1;34m()\u001b[0m\n\u001b[0;32m      8\u001b[0m \u001b[1;32mimport\u001b[0m \u001b[0mmpl_toolkits\u001b[0m\u001b[1;33m.\u001b[0m\u001b[0mbasemap\u001b[0m\u001b[1;33m.\u001b[0m\u001b[0mpyproj\u001b[0m \u001b[1;32mas\u001b[0m \u001b[0mpyproj\u001b[0m\u001b[1;33m\u001b[0m\u001b[0m\n\u001b[0;32m      9\u001b[0m \u001b[1;32mimport\u001b[0m \u001b[0mnumpy\u001b[0m \u001b[1;32mas\u001b[0m \u001b[0mnp\u001b[0m\u001b[1;33m\u001b[0m\u001b[0m\n\u001b[1;32m---> 10\u001b[1;33m \u001b[1;32mimport\u001b[0m \u001b[0mpyhdf\u001b[0m\u001b[1;33m\u001b[0m\u001b[0m\n\u001b[0m\u001b[0;32m     11\u001b[0m \u001b[1;32mfrom\u001b[0m \u001b[0mpyhdf\u001b[0m\u001b[1;33m.\u001b[0m\u001b[0mHDF\u001b[0m \u001b[1;32mimport\u001b[0m \u001b[1;33m*\u001b[0m\u001b[1;33m\u001b[0m\u001b[0m\n\u001b[0;32m     12\u001b[0m \u001b[1;32mfrom\u001b[0m \u001b[0mpyhdf\u001b[0m\u001b[1;33m.\u001b[0m\u001b[0mSD\u001b[0m \u001b[1;32mimport\u001b[0m \u001b[1;33m*\u001b[0m\u001b[1;33m\u001b[0m\u001b[0m\n",
      "\u001b[1;31mImportError\u001b[0m: No module named 'pyhdf'"
     ]
    }
   ],
   "source": [
    "import os\n",
    "import re\n",
    "\n",
    "\n",
    "import matplotlib as mpl\n",
    "import matplotlib.pyplot as plt\n",
    "from mpl_toolkits.basemap import Basemap\n",
    "import mpl_toolkits.basemap.pyproj as pyproj\n",
    "import numpy as np\n",
    "import pyhdf\n",
    "from pyhdf.HDF import *\n",
    "from pyhdf.SD import *\n",
    "from pyhdf.V import *\n",
    "\n",
    "def run(FILE_NAME):\n",
    "    \n",
    "    # Identify the data field.\n",
    "    DATAFIELD_NAME = 'Blue Radiance/RDQI'\n",
    "\n",
    "    hdf = SD(FILE_NAME, SDC.READ)\n",
    "\n",
    "    # Read dataset.\n",
    "    data3D = hdf.select(DATAFIELD_NAME)\n",
    "    data = data3D[:,:,:]\n",
    "\n",
    "    # Read attributes.\n",
    "    attrs = data3D.attributes(full=1)\n",
    "    fva=attrs[\"_FillValue\"]\n",
    "    _FillValue = fva[0]\n",
    "\n",
    "\n",
    "    # Read geolocation dataset from another file.\n",
    "    GEO_FILE_NAME = 'MISR_AM1_AGP_P117_F01_24.hdf'\n",
    "    GEO_FILE_NAME = os.path.join(os.environ['HDFEOS_ZOO_DIR'], \n",
    "                                 GEO_FILE_NAME)\n",
    "\n",
    "    hdf_geo = SD(GEO_FILE_NAME, SDC.READ)\n",
    "\n",
    "    # Read geolocation dataset.\n",
    "    lat3D = hdf_geo.select('GeoLatitude')\n",
    "    lat = lat3D[:,:,:]\n",
    "\n",
    "    lon3D = hdf_geo.select('GeoLongitude')\n",
    "    lon = lon3D[:,:,:]\n",
    "        \n",
    "\n",
    "    # Read scale factor attribute.\n",
    "    f = HDF(FILE_NAME, HC.READ)\n",
    "    v = f.vgstart()\n",
    "    vg = v.attach(8)\n",
    "\n",
    "    # PyHDF cannot read attributes from Vgroup properly.\n",
    "    # sfa = vg.attr('Scale Factor')\n",
    "    # scale_factor = sfa.get()\n",
    "\n",
    "    vg.detach()\n",
    "    v.end()\n",
    "\n",
    "    # Set it manually using HDFView.\n",
    "    scale_factor = 0.047203224152326584\n",
    "\n",
    "\n",
    "\n",
    "    # We need to shift bits for \"RDQI\" to get \"Blue Band \"only. \n",
    "    # See the page 84 of \"MISR Data Products Specifications (rev. S)\".\n",
    "    # The document is available at [1].\n",
    "    datas = np.right_shift(data, 2);\n",
    "    dataf = datas.astype(np.double)\n",
    "\n",
    "    # Apply the fill value.\n",
    "    dataf[data == _FillValue] = np.nan\n",
    "\n",
    "    # Filter out values (> 16376) used for \"Flag Data\".\n",
    "    # See Table 1.2 in \"Level 1 Radiance Scaling and Conditioning\n",
    "    # Algorithm  Theoretical Basis\" document [2].\n",
    "    dataf[datas > 16376] = np.nan\n",
    "    datam = np.ma.masked_array(dataf, mask=np.isnan(dataf))\n",
    "\n",
    "    # Apply scale facotr.\n",
    "    datam = scale_factor * datam;\n",
    "\n",
    "    nblocks = data.shape[0]\n",
    "    ydimsize = data.shape[1]\n",
    "    xdimsize = data.shape[2]\n",
    "\n",
    "    datam = datam.reshape(nblocks*ydimsize, xdimsize)\n",
    "    lat = lat.reshape(nblocks*ydimsize, xdimsize)\n",
    "    lon = lon.reshape(nblocks*ydimsize, xdimsize)\n",
    "\n",
    "\n",
    "    # Set the limit for the plot.\n",
    "    m = Basemap(projection='cyl', resolution='h',\n",
    "                llcrnrlat=np.min(lat), urcrnrlat = np.max(lat),\n",
    "                llcrnrlon=np.min(lon), urcrnrlon = np.max(lon))\n",
    "    m.drawcoastlines(linewidth=0.5)\n",
    "    m.drawparallels(np.arange(-90., 120., 30.), labels=[1, 0, 0, 0])\n",
    "    m.drawmeridians(np.arange(-180., 181., 45.), labels=[0, 0, 0, 1])\n",
    "    m.pcolormesh(lon, lat, datam, latlon=True)\n",
    "    cb = m.colorbar()\n",
    "    cb.set_label(r'$Wm^{-2}sr^{-1}{\\mu}m^{-1}$')\n",
    "\n",
    "    basename = os.path.basename(FILE_NAME)\n",
    "    plt.title('{0}\\n{1}'.format(basename, 'Blue Radiance'))\n",
    "    fig = plt.gcf()\n",
    "    # plt.show()\n",
    "    pngfile = \"{0}.py.agp.png\".format(basename)\n",
    "    fig.savefig(pngfile)\n",
    "\n",
    "\n",
    "\n",
    "if __name__ == \"__main__\":\n",
    "\n",
    "    # If a certain environment variable is set, look there for the input\n",
    "    # file, otherwise look in the current directory.\n",
    "    hdffile = 'MISR_AM1_GRP_ELLIPSOID_GM_P117_O058421_BA_F03_0024.hdf'\n",
    "    try:\n",
    "        hdffile = os.path.join(os.environ['HDFEOS_ZOO_DIR'], hdffile)\n",
    "    except KeyError:\n",
    "        pass\n",
    "\n",
    "    run(hdffile)\n",
    "\n",
    "# References\n",
    "# \n",
    "# [1] http://eosweb.larc.nasa.gov/PRODOCS/misr/DPS/DPS_v50_RevS.pdf\n",
    "# [2] http://eospso.gsfc.nasa.gov/eos_homepae/for_scientists/atbd/docs/MISR/atbd-misr-01.pdf\n",
    "\n",
    "    "
   ]
  },
  {
   "cell_type": "code",
   "execution_count": 9,
   "metadata": {
    "collapsed": false
   },
   "outputs": [
    {
     "name": "stdout",
     "output_type": "stream",
     "text": [
      "Collecting python-hdf4\n",
      "  Downloading python-hdf4-0.9.tar.gz (155kB)\n",
      "\u001b[K    100% |████████████████████████████████| 163kB 6.5MB/s \n",
      "\u001b[?25hInstalling collected packages: python-hdf4\n",
      "  Running setup.py install for python-hdf4 ... \u001b[?25l-\b \b\\\b \b|\b \b/\b \b-\b \b\\\b \b|\b \b/\b \b-\b \b\\\b \b|\b \b/\b \bdone\n",
      "\u001b[?25hSuccessfully installed python-hdf4-0.9\n"
     ]
    }
   ],
   "source": [
    "! pip3.4 install --user --no-cache-dir python-hdf4"
   ]
  },
  {
   "cell_type": "code",
   "execution_count": 8,
   "metadata": {
    "collapsed": false
   },
   "outputs": [
    {
     "name": "stdout",
     "output_type": "stream",
     "text": [
      "3.4.3 (default, Nov 17 2016, 01:08:31) \n",
      "[GCC 4.8.4]\n"
     ]
    }
   ],
   "source": [
    "import sys\n",
    "print(sys.version)"
   ]
  },
  {
   "cell_type": "code",
   "execution_count": 10,
   "metadata": {
    "collapsed": false
   },
   "outputs": [
    {
     "ename": "ImportError",
     "evalue": "No module named 'pyhdf'",
     "output_type": "error",
     "traceback": [
      "\u001b[1;31m---------------------------------------------------------------------------\u001b[0m",
      "\u001b[1;31mImportError\u001b[0m                               Traceback (most recent call last)",
      "\u001b[1;32m<ipython-input-10-c77c3400983d>\u001b[0m in \u001b[0;36m<module>\u001b[1;34m()\u001b[0m\n\u001b[1;32m----> 1\u001b[1;33m \u001b[1;32mimport\u001b[0m \u001b[0mpyhdf\u001b[0m\u001b[1;33m\u001b[0m\u001b[0m\n\u001b[0m",
      "\u001b[1;31mImportError\u001b[0m: No module named 'pyhdf'"
     ]
    }
   ],
   "source": [
    "import pyhdf"
   ]
  },
  {
   "cell_type": "code",
   "execution_count": null,
   "metadata": {
    "collapsed": true
   },
   "outputs": [],
   "source": []
  }
 ],
 "metadata": {
  "kernelspec": {
   "display_name": "Python 3",
   "language": "python",
   "name": "python3"
  },
  "language_info": {
   "codemirror_mode": {
    "name": "ipython",
    "version": 3
   },
   "file_extension": ".py",
   "mimetype": "text/x-python",
   "name": "python",
   "nbconvert_exporter": "python",
   "pygments_lexer": "ipython3",
   "version": "3.4.3"
  }
 },
 "nbformat": 4,
 "nbformat_minor": 2
}
