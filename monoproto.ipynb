{
 "cells": [
  {
   "cell_type": "code",
   "execution_count": null,
   "metadata": {
    "collapsed": true
   },
   "outputs": [],
   "source": [
    "from mpl_toolkits.axes_grid1 import host_subplot\n",
    "import mpl_toolkits.axisartist as AA\n",
    "import matplotlib.pyplot as plt\n",
    "host = host_subplot(111, axes_class=AA.Axes)\n",
    "plt.subplots_adjust(right=0.75)\n",
    "font = {'family': 'serif',\n",
    "        'color':  'darkred',\n",
    "        'weight': 'normal',\n",
    "        'size': 16,\n",
    "        }\n",
    "par1 = host.twinx()\n",
    "# par2 = host.twinx()\n",
    "# offset = 60\n",
    "# new_fixed_axis = par2.get_grid_helper().new_fixed_axis\n",
    "# par2.axis[\"right\"] = new_fixed_axis(loc=\"right\", axes=par2,\n",
    "#                                         offset=(offset, 0))\n",
    "# par2.axis[\"right\"].toggle(all=True)\n",
    "host.set_xlim(2005, 2015)\n",
    "host.set_ylim(0, .2)\n",
    "host.set_xlabel(\"Year\")\n",
    "host.set_ylabel(\"Asthma Rates (US Total)\")\n",
    "par1.set_ylabel(\"Average Carbon Monoxide Fraction\")\n",
    "p1, = host.plot([2005, 2006, 2007, 2008, 2009, 2010, 2011, 2012, 2013, 2014,2015], [.087, .09, .085, .082, .093, .094, .088, .093, .085, .084, .079], label=\"Northeast\",linestyle='dashed')\n",
    "p1, = host.plot([2005, 2006, 2007, 2008, 2009, 2010, 2011, 2012, 2013, 2014,2015], [.077, .083, .082, .086, .088, .087, .082, .083, .073, .079, .079], label=\"Midwest\",linestyle='dashed')\n",
    "p1, = host.plot([2005, 2006, 2007, 2008, 2009, 2010, 2011, 2012, 2013, 2014,2015], [.072, .073, .073, .07, .075, .083, .083, .081, .068, .075, .076], label=\"South\",linestyle='dashed')\n",
    "p1, = host.plot([2005, 2006, 2007, 2008, 2009, 2010, 2011, 2012, 2013, 2014,2015], [.075, .072, .073, .08, .077, .083, .083, .078, .072, .073, .079], label=\"West\",linestyle='dashed')\n",
    "p2, = par1.plot([2005, 2006, 2007, 2008, 2009, 2010, 2011, 2012, 2013, 2014,2015,2016,2017], [0.2791082563117829, 0.24461065682038063, 0.34107125998335275, 0.24888428102104113, 0.19915005625583024, 0.2904626663098167, 0.18430241471330314, 0.185308610216821, 0.27319615398940017, 0.1918735226889854, 0.2735653031015628, 0.232460696706154, 0.1953225810642616], label=\"Carbon Monoxide\",)\n",
    "par1.set_ylim(0, .6)\n",
    "host.legend(loc=3)\n",
    "host.axis[\"left\"].label.set_color(p1.get_color())\n",
    "par1.axis[\"right\"].label.set_color(p2.get_color())\n",
    "plt.title(\"Asthma Rates and Carbon Monoxide (2005-2010)\",fontdict=font)\n",
    "plt.figure(figsize=(11,9))\n",
    "plt.draw()\n",
    "plt.show()"
   ]
  }
 ],
 "metadata": {
  "kernelspec": {
   "display_name": "Python 3",
   "language": "python",
   "name": "python3"
  },
  "language_info": {
   "codemirror_mode": {
    "name": "ipython",
    "version": 3
   },
   "file_extension": ".py",
   "mimetype": "text/x-python",
   "name": "python",
   "nbconvert_exporter": "python",
   "pygments_lexer": "ipython3",
   "version": "3.6.1"
  }
 },
 "nbformat": 4,
 "nbformat_minor": 2
}
