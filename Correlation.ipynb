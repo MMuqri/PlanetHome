{
 "cells": [
  {
   "cell_type": "code",
   "execution_count": 55,
   "metadata": {
    "collapsed": false
   },
   "outputs": [
    {
     "name": "stdout",
     "output_type": "stream",
     "text": [
      "Correlation Coeffient of COPD vs Aerosol: -0.341495358426\n",
      "Correlation Coeffient of COPD vs Aerosol (adjusted): -0.584957359111\n",
      "Corrlation Coeffient of Asthma vs Aerosol ( Northeast in Entire US ) 0.417176768605\n",
      "Corrlation Coeffient of Asthma vs Aerosol ( Northeast in Northeast US ) 0.303859734276\n",
      "Corrlation Coeffient of Asthma vs Aerosol ( Midwest in Entire US ) 0.0375985833449\n",
      "Corrlation Coeffient of Asthma vs Aerosol ( Midwest in Midwest US ) 0.0795824289475\n",
      "Corrlation Coeffient of Asthma vs Aerosol ( South in Entire US ) -0.155074280601\n",
      "Corrlation Coeffient of Asthma vs Aerosol ( South in South US ) 0.25839230267\n",
      "Corrlation Coeffient of Asthma vs Aerosol ( West in Entire US ) -0.187035993448\n",
      "Corrlation Coeffient of Asthma vs Aerosol ( West in West US ) 0.357116148946\n"
     ]
    }
   ],
   "source": [
    "from scipy.stats.stats import pearsonr\n",
    "\n",
    "#Aerosol Data 2005-2015\n",
    "aerosol = [0.1578671115164649, 0.15201806422778805, 0.14545704938820161,0.1549062099680654,0.133278246792898,0.14283394266322635,0.1409409924411912,0.15997702995200716,0.1480814553240362, 0.1362885183539518,0.10655997547089897]\n",
    "\n",
    "#Aerosol Data 2005-2011\n",
    "aerosol_end2011 = [0.1578671115164649, 0.15201806422778805, 0.14545704938820161,0.1549062099680654,0.133278246792898,0.14283394266322635,0.140940992441191]\n",
    "\n",
    "#Aerosol Data 2005-2009\n",
    "aerosol_mod=[0.1578711, .15201806,0.14545704938820161,0.1549062099680654,0.133278246792898]\n",
    "\n",
    "#Aerosol 2005-2015 by region \n",
    "aerosol_northeast = [0.12844648160707187,0.3422472190391556,0.34555630909785395,0.2380414136453518,0.1704551655324556,0.2890380382955393,0.29843003359759285,0.48609974301609205,0.2685845617372008,0.4294307637540958,0.12810868678364762]\n",
    "aerosol_midwest = [0.40451060026140123,0.4932246153686251,0.32988003086925,0.5357425899508639,0.24043326083736738,0.23776857936489376,0.34712185818333946,0.5166844658554394,0.31578489225644346,0.36541084945004404,0.15311329898219822]\n",
    "aerosol_south = [0.444045586710632,0.3711455661831004,0.19372403202294927,0.34257851780828324,0.3981626560027439,0.35301248021951465,0.36081294221889626,0.3583041660495415,0.21998498112246623,0.35934353473700076,0.222253403282846]\n",
    "aerosol_west = [0.46393260733430514,0.22393198371309267,0.5211784362178413,0.7176152205150591,0.23250677538463138,0.49922437111698353,0.5427505333260577,0.5427505333260577,0.6213060187242269,0.22683312156196325,0.3819744886955663]\n",
    "\n",
    "\n",
    "\n",
    "#Asthma 2005-2015\n",
    "asthma_northeast = [.087, .09, .085, .082, .093, .094, .088, .093, .085, .084, .079]\n",
    "asthma_midwest = [.077, .083, .082, .086, .088, .087, .082, .083, .073, .079, .079]\n",
    "asthma_south= [.072, .073, .073, .07, .075, .083, .083, .081, .068, .075, .076]\n",
    "asthma_west = [.075, .072, .073, .08, .077, .083, .083, .078, .072, .073, .079]\n",
    "\n",
    "#Aerosol 2005-2011\n",
    "NationalCOPD= [.056, .059, .05, .058, .062, .058, .059]\n",
    "#Aerosol 2007-2011\n",
    "NationalCOPD_mod=[.05, .058, .062, 0.058,0.059]\n",
    "\n",
    "\n",
    "\n",
    "CC_COPD = pearsonr(aerosol_end2011,NationalCOPD)\n",
    "print(\"Correlation Coeffient of COPD vs Aerosol:\",CC_COPD[0])\n",
    "\n",
    "CC_COPD_adjusted = pearsonr(NationalCOPD_mod,aerosol_mod)\n",
    "print(\"Correlation Coeffient of COPD vs Aerosol (adjusted):\",CC_COPD_adjusted[0])\n",
    "\n",
    "\n",
    "def CorrCoef(x,y,region):\n",
    "    CC = pearsonr(x,y)\n",
    "    print('Corrlation Coeffient of Asthma vs Aerosol (',region,')', CC[0])\n",
    "\n",
    "CorrCoef(aerosol,asthma_northeast,'Northeast in Entire US')\n",
    "CorrCoef(aerosol_northeast,asthma_northeast, 'Northeast in Northeast US') \n",
    "\n",
    "CorrCoef(aerosol,asthma_midwest,'Midwest in Entire US')\n",
    "CorrCoef(aerosol_midwest,asthma_midwest, 'Midwest in Midwest US')\n",
    "\n",
    "CorrCoef(aerosol,asthma_south, 'South in Entire US')\n",
    "CorrCoef(aerosol_south,asthma_south,'South in South US')\n",
    "\n",
    "CorrCoef(aerosol,asthma_west,'West in Entire US')\n",
    "CorrCoef(aerosol_west,asthma_west,'West in West US')\n",
    "\n",
    "\n"
   ]
  },
  {
   "cell_type": "code",
   "execution_count": null,
   "metadata": {
    "collapsed": false
   },
   "outputs": [],
   "source": []
  },
  {
   "cell_type": "code",
   "execution_count": null,
   "metadata": {
    "collapsed": true
   },
   "outputs": [],
   "source": []
  },
  {
   "cell_type": "code",
   "execution_count": null,
   "metadata": {
    "collapsed": true
   },
   "outputs": [],
   "source": []
  }
 ],
 "metadata": {
  "kernelspec": {
   "display_name": "Python 3.5",
   "language": "python",
   "name": "python3.5"
  },
  "language_info": {
   "codemirror_mode": {
    "name": "ipython",
    "version": 3
   },
   "file_extension": ".py",
   "mimetype": "text/x-python",
   "name": "python",
   "nbconvert_exporter": "python",
   "pygments_lexer": "ipython3",
   "version": "3.5.2"
  }
 },
 "nbformat": 4,
 "nbformat_minor": 0
}
